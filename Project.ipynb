{
 "cells": [
  {
   "cell_type": "markdown",
   "metadata": {},
   "source": [
    "# Secondary Mushroom Dataset Analysis"
   ]
  },
  {
   "cell_type": "code",
   "execution_count": 1,
   "metadata": {},
   "outputs": [],
   "source": [
    "# import of all the necessary libraries\n",
    "import urllib\n",
    "import zipfile\n",
    "import os"
   ]
  },
  {
   "cell_type": "code",
   "execution_count": 2,
   "metadata": {},
   "outputs": [],
   "source": [
    "# Defining the function to download and extract the file, returns the path to the extracted file\n",
    "\n",
    "def download_and_extract_file(url, destination) -> str:\n",
    "    \"\"\"\n",
    "    Download and extract url to destination\n",
    "\n",
    "    :param url: url to download\n",
    "    :param destination: destination path\n",
    "\n",
    "    :return: path to extracted file\n",
    "    \"\"\"\n",
    "    urllib.request.urlretrieve(url, destination)\n",
    "    with zipfile.ZipFile(destination, \"r\") as zip_ref:\n",
    "        zip_ref.extractall(\"./\")\n",
    "    os.remove(destination)\n",
    "    name = \"MushroomDataset.zip\"\n",
    "    with zipfile.ZipFile(name, \"r\") as zip_ref:\n",
    "        zip_ref.extractall(\"./\")\n",
    "    os.remove(name)\n",
    "    res = os.listdir(\"./\")\n",
    "    for i in res:\n",
    "        if i == \"MushroomDataset\":\n",
    "            return \"./MushroomDataset/\"\n",
    "    return \"./\""
   ]
  },
  {
   "cell_type": "code",
   "execution_count": 3,
   "metadata": {},
   "outputs": [
    {
     "name": "stdout",
     "output_type": "stream",
     "text": [
      "Dataset downloaded and extracted to: ./MushroomDataset/\n",
      "\n"
     ]
    }
   ],
   "source": [
    "source = \"https://archive.ics.uci.edu/static/public/848/secondary+mushroom+dataset.zip\"\n",
    "destination_zip = \"./secondary+mushroom+dataset.zip\"\n",
    "\n",
    "datasets_path = download_and_extract_file(source, destination_zip)\n",
    "print(\"Dataset downloaded and extracted to: \" + datasets_path + \"\\n\")"
   ]
  },
  {
   "cell_type": "markdown",
   "metadata": {},
   "source": [
    "### Transforming data from csv to DataFrame"
   ]
  },
  {
   "cell_type": "code",
   "execution_count": 4,
   "metadata": {},
   "outputs": [
    {
     "name": "stdout",
     "output_type": "stream",
     "text": [
      "+-----+------------+---------+-----------+---------+--------------------+---------------+------------+----------+-----------+----------+---------+------------+----------+---------+----------+--------+---------+-----------------+-------+------+\n",
      "|class|cap-diameter|cap-shape|cap-surface|cap-color|does-bruise-or-bleed|gill-attachment|gill-spacing|gill-color|stem-height|stem-width|stem-root|stem-surface|stem-color|veil-type|veil-color|has-ring|ring-type|spore-print-color|habitat|season|\n",
      "+-----+------------+---------+-----------+---------+--------------------+---------------+------------+----------+-----------+----------+---------+------------+----------+---------+----------+--------+---------+-----------------+-------+------+\n",
      "|    p|       15.26|        x|          g|        o|                   f|              e|        NULL|         w|      16.95|     17.09|        s|           y|         w|        u|         w|       t|        g|             NULL|      d|     w|\n",
      "|    p|        16.6|        x|          g|        o|                   f|              e|        NULL|         w|      17.99|     18.19|        s|           y|         w|        u|         w|       t|        g|             NULL|      d|     u|\n",
      "|    p|       14.07|        x|          g|        o|                   f|              e|        NULL|         w|       17.8|     17.74|        s|           y|         w|        u|         w|       t|        g|             NULL|      d|     w|\n",
      "|    p|       14.17|        f|          h|        e|                   f|              e|        NULL|         w|      15.77|     15.98|        s|           y|         w|        u|         w|       t|        p|             NULL|      d|     w|\n",
      "|    p|       14.64|        x|          h|        o|                   f|              e|        NULL|         w|      16.53|      17.2|        s|           y|         w|        u|         w|       t|        p|             NULL|      d|     w|\n",
      "+-----+------------+---------+-----------+---------+--------------------+---------------+------------+----------+-----------+----------+---------+------------+----------+---------+----------+--------+---------+-----------------+-------+------+\n",
      "only showing top 5 rows\n",
      "\n"
     ]
    }
   ],
   "source": [
    "df = spark.read.format(\"csv\").load(datasets_path + \"secondary_data.csv\", header=True, inferSchema=True, sep=\";\")\n",
    "df.show(5)"
   ]
  },
  {
   "cell_type": "markdown",
   "metadata": {},
   "source": [
    "#### Visualization of the dataset"
   ]
  },
  {
   "cell_type": "code",
   "execution_count": 5,
   "metadata": {},
   "outputs": [
    {
     "name": "stdout",
     "output_type": "stream",
     "text": [
      "Number of rows: 61069\n",
      "Number of columns: 21\n",
      "Columns: ['class', 'cap-diameter', 'cap-shape', 'cap-surface', 'cap-color', 'does-bruise-or-bleed', 'gill-attachment', 'gill-spacing', 'gill-color', 'stem-height', 'stem-width', 'stem-root', 'stem-surface', 'stem-color', 'veil-type', 'veil-color', 'has-ring', 'ring-type', 'spore-print-color', 'habitat', 'season']\n",
      "Schema: \n",
      "root\n",
      " |-- class: string (nullable = true)\n",
      " |-- cap-diameter: double (nullable = true)\n",
      " |-- cap-shape: string (nullable = true)\n",
      " |-- cap-surface: string (nullable = true)\n",
      " |-- cap-color: string (nullable = true)\n",
      " |-- does-bruise-or-bleed: string (nullable = true)\n",
      " |-- gill-attachment: string (nullable = true)\n",
      " |-- gill-spacing: string (nullable = true)\n",
      " |-- gill-color: string (nullable = true)\n",
      " |-- stem-height: double (nullable = true)\n",
      " |-- stem-width: double (nullable = true)\n",
      " |-- stem-root: string (nullable = true)\n",
      " |-- stem-surface: string (nullable = true)\n",
      " |-- stem-color: string (nullable = true)\n",
      " |-- veil-type: string (nullable = true)\n",
      " |-- veil-color: string (nullable = true)\n",
      " |-- has-ring: string (nullable = true)\n",
      " |-- ring-type: string (nullable = true)\n",
      " |-- spore-print-color: string (nullable = true)\n",
      " |-- habitat: string (nullable = true)\n",
      " |-- season: string (nullable = true)\n",
      "\n"
     ]
    }
   ],
   "source": [
    "# We produce some statistics about the dataset\n",
    "print(\"Number of rows: \" + str(df.count()))\n",
    "print(\"Number of columns: \" + str(len(df.columns)))\n",
    "print(\"Columns: \" + str(df.columns))\n",
    "print(\"Schema: \")\n",
    "df.printSchema()"
   ]
  },
  {
   "cell_type": "code",
   "execution_count": 7,
   "metadata": {},
   "outputs": [
    {
     "name": "stdout",
     "output_type": "stream",
     "text": [
      "Number of null values in each column: \n"
     ]
    },
    {
     "name": "stderr",
     "output_type": "stream",
     "text": [
      "[Stage 6:>                                                          (0 + 1) / 1]\r"
     ]
    },
    {
     "name": "stdout",
     "output_type": "stream",
     "text": [
      "+-----+------------+---------+-----------+---------+--------------------+---------------+------------+----------+-----------+----------+---------+------------+----------+---------+----------+--------+---------+-----------------+-------+------+\n",
      "|class|cap-diameter|cap-shape|cap-surface|cap-color|does-bruise-or-bleed|gill-attachment|gill-spacing|gill-color|stem-height|stem-width|stem-root|stem-surface|stem-color|veil-type|veil-color|has-ring|ring-type|spore-print-color|habitat|season|\n",
      "+-----+------------+---------+-----------+---------+--------------------+---------------+------------+----------+-----------+----------+---------+------------+----------+---------+----------+--------+---------+-----------------+-------+------+\n",
      "|    0|           0|        0|      14120|        0|                   0|           9884|       25063|         0|          0|         0|    51538|       38124|         0|    57892|     53656|       0|     2471|            54715|      0|     0|\n",
      "+-----+------------+---------+-----------+---------+--------------------+---------------+------------+----------+-----------+----------+---------+------------+----------+---------+----------+--------+---------+-----------------+-------+------+\n",
      "\n"
     ]
    },
    {
     "name": "stderr",
     "output_type": "stream",
     "text": [
      "                                                                                \r"
     ]
    }
   ],
   "source": [
    "# We check if there are any null values in the dataset\n",
    "from pyspark.sql.functions import count, when, isnan, col\n",
    "print(\"Number of null values in each column: \")\n",
    "df.select([count(when(isnan(c) | col(c).isNull(), c)).alias(c) for c in df.columns]).show()\n"
   ]
  },
  {
   "cell_type": "code",
   "execution_count": 10,
   "metadata": {},
   "outputs": [
    {
     "name": "stdout",
     "output_type": "stream",
     "text": [
      "Number of rows before removing duplicates: 61069\n",
      "Number of rows after removing duplicates: 60923\n"
     ]
    }
   ],
   "source": [
    "# We remove duplicates from the dataset\n",
    "print(\"Number of rows before removing duplicates: \" + str(df.count()))\n",
    "df = df.dropDuplicates()\n",
    "print(\"Number of rows after removing duplicates: \" + str(df.count()))"
   ]
  },
  {
   "cell_type": "code",
   "execution_count": 11,
   "metadata": {},
   "outputs": [
    {
     "name": "stdout",
     "output_type": "stream",
     "text": [
      "Statistics of the dataset: \n"
     ]
    },
    {
     "name": "stderr",
     "output_type": "stream",
     "text": [
      "23/12/19 11:14:05 WARN SparkStringUtils: Truncated the string representation of a plan since it was too large. This behavior can be adjusted by setting 'spark.sql.debug.maxToStringFields'.\n",
      "[Stage 29:======================================>                   (2 + 1) / 3]\r"
     ]
    },
    {
     "name": "stdout",
     "output_type": "stream",
     "text": [
      "+-------+-----+------------------+---------+-----------+---------+--------------------+---------------+------------+----------+-----------------+------------------+---------+------------+----------+---------+----------+--------+---------+-----------------+-------+------+\n",
      "|summary|class|      cap-diameter|cap-shape|cap-surface|cap-color|does-bruise-or-bleed|gill-attachment|gill-spacing|gill-color|      stem-height|        stem-width|stem-root|stem-surface|stem-color|veil-type|veil-color|has-ring|ring-type|spore-print-color|habitat|season|\n",
      "+-------+-----+------------------+---------+-----------+---------+--------------------+---------------+------------+----------+-----------------+------------------+---------+------------+----------+---------+----------+--------+---------+-----------------+-------+------+\n",
      "|  count|60923|             60923|    60923|      46803|    60923|               60923|          51068|       35861|     60923|            60923|             60923|     9387|       22801|     60923|     3177|      7413|   60923|    58452|             6326|  60923| 60923|\n",
      "|   mean| NULL| 6.741957224693446|     NULL|       NULL|     NULL|                NULL|           NULL|        NULL|      NULL|6.597201713638521| 12.17848382384324|     NULL|        NULL|      NULL|     NULL|      NULL|    NULL|     NULL|             NULL|   NULL|  NULL|\n",
      "| stddev| NULL|5.2684351780436085|     NULL|       NULL|     NULL|                NULL|           NULL|        NULL|      NULL|3.358756979107318|10.030360750683814|     NULL|        NULL|      NULL|     NULL|      NULL|    NULL|     NULL|             NULL|   NULL|  NULL|\n",
      "|    min|    e|              0.38|        b|          d|        b|                   f|              a|           c|         b|              0.0|               0.0|        b|           f|         b|        u|         e|       f|        e|                g|      d|     a|\n",
      "|    max|    p|             62.34|        x|          y|        y|                   t|              x|           f|         y|            33.92|            103.91|        s|           y|         y|        u|         y|       t|        z|                w|      w|     w|\n",
      "+-------+-----+------------------+---------+-----------+---------+--------------------+---------------+------------+----------+-----------------+------------------+---------+------------+----------+---------+----------+--------+---------+-----------------+-------+------+\n",
      "\n"
     ]
    },
    {
     "name": "stderr",
     "output_type": "stream",
     "text": [
      "                                                                                \r"
     ]
    }
   ],
   "source": [
    "# We compute the statistics of the dataset\n",
    "print(\"Statistics of the dataset: \")\n",
    "df.describe().show()"
   ]
  },
  {
   "cell_type": "code",
   "execution_count": 19,
   "metadata": {},
   "outputs": [
    {
     "name": "stdout",
     "output_type": "stream",
     "text": [
      "Number of rows before removing columns with a high number of null values: 60923\n"
     ]
    },
    {
     "data": {
      "text/plain": [
       "{14120: 'cap-surface',\n",
       " 9855: 'gill-attachment',\n",
       " 25062: 'gill-spacing',\n",
       " 51536: 'stem-root',\n",
       " 38122: 'stem-surface',\n",
       " 57746: 'veil-type',\n",
       " 53510: 'veil-color',\n",
       " 2471: 'ring-type',\n",
       " 54597: 'spore-print-color'}"
      ]
     },
     "execution_count": 19,
     "metadata": {},
     "output_type": "execute_result"
    }
   ],
   "source": [
    "# We delete the columns with a high number of null values, greater than 50% of the total number of rows\n",
    "print(\"Number of rows before removing columns with a high number of null values: \" + str(df.count()))\n",
    "\n",
    "# We compute the number of null values in each column\n",
    "null_values = df.select([count(when(isnan(c) | col(c).isNull(), c)).alias(c) for c in df.columns]).collect()[0]\n",
    "null_values_dict = {}\n",
    "for i in range(len(null_values)):\n",
    "    if null_values[i] == 0:\n",
    "        continue\n",
    "    null_values_dict[null_values[i]] = df.columns[i]\n"
   ]
  },
  {
   "cell_type": "code",
   "execution_count": 21,
   "metadata": {},
   "outputs": [
    {
     "name": "stdout",
     "output_type": "stream",
     "text": [
      "Number of rows after removing columns with a high number of null values: 60923\n"
     ]
    },
    {
     "data": {
      "text/plain": [
       "['class',\n",
       " 'cap-diameter',\n",
       " 'cap-shape',\n",
       " 'cap-surface',\n",
       " 'cap-color',\n",
       " 'does-bruise-or-bleed',\n",
       " 'gill-attachment',\n",
       " 'gill-spacing',\n",
       " 'gill-color',\n",
       " 'stem-height',\n",
       " 'stem-width',\n",
       " 'stem-color',\n",
       " 'has-ring',\n",
       " 'ring-type',\n",
       " 'habitat',\n",
       " 'season']"
      ]
     },
     "execution_count": 21,
     "metadata": {},
     "output_type": "execute_result"
    }
   ],
   "source": [
    "# From the data above we decide to remove the columns with a high number of null values, greater than 50% of the total number of rows\n",
    "null_values_to_remove = []\n",
    "for i in null_values_dict:\n",
    "    if i > df.count() / 2:\n",
    "        null_values_to_remove.append(null_values_dict[i])\n",
    "\n",
    "df = df.drop(*null_values_to_remove)\n",
    "print(\"Number of rows after removing columns with a high number of null values: \" + str(df.count()))\n",
    "df.columns"
   ]
  },
  {
   "cell_type": "code",
   "execution_count": 25,
   "metadata": {},
   "outputs": [
    {
     "name": "stdout",
     "output_type": "stream",
     "text": [
      "Number of rows before replacing null values: 60923\n",
      "Most frequent value of column cap-surface: t\n",
      "Most frequent value of column gill-attachment: a\n",
      "Most frequent value of column gill-spacing: c\n",
      "Most frequent value of column ring-type: f\n"
     ]
    }
   ],
   "source": [
    "# For all the other columns with a low number of null values, we replace the null values with the most frequent value of the column\n",
    "print(\"Number of rows before replacing null values: \" + str(df.count()))\n",
    "for i in df.columns:\n",
    "    if df.filter(df[i].isNull()).count() > 0:\n",
    "        most_frequent_value = df.groupBy(i).count().orderBy(\"count\", ascending=False).collect()\n",
    "        if most_frequent_value[0][0] == None:\n",
    "            most_frequent_value = most_frequent_value[1][0]\n",
    "        else:\n",
    "            most_frequent_value = most_frequent_value[0][0]\n",
    "        print(\"Most frequent value of column \" + i + \": \" + str(most_frequent_value))\n",
    "        df = df.fillna(most_frequent_value, subset=[i])\n"
   ]
  },
  {
   "cell_type": "code",
   "execution_count": 26,
   "metadata": {},
   "outputs": [
    {
     "name": "stderr",
     "output_type": "stream",
     "text": [
      "                                                                                \r"
     ]
    },
    {
     "data": {
      "text/plain": [
       "{}"
      ]
     },
     "execution_count": 26,
     "metadata": {},
     "output_type": "execute_result"
    }
   ],
   "source": [
    "# We compute the number of null values in each column\n",
    "null_values = df.select([count(when(isnan(c) | col(c).isNull(), c)).alias(c) for c in df.columns]).collect()[0]\n",
    "null_values_dict = {}\n",
    "for i in range(len(null_values)):\n",
    "    if null_values[i] == 0:\n",
    "        continue\n",
    "    null_values_dict[null_values[i]] = df.columns[i]"
   ]
  }
 ],
 "metadata": {
  "kernelspec": {
   "display_name": "Python 3 (ipykernel)",
   "language": "python",
   "name": "python3"
  },
  "language_info": {
   "codemirror_mode": {
    "name": "ipython",
    "version": 3
   },
   "file_extension": ".py",
   "mimetype": "text/x-python",
   "name": "python",
   "nbconvert_exporter": "python",
   "pygments_lexer": "ipython3",
   "version": "3.8.10"
  }
 },
 "nbformat": 4,
 "nbformat_minor": 2
}
