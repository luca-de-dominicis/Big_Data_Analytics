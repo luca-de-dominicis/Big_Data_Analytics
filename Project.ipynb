{
 "cells": [
  {
   "cell_type": "markdown",
   "metadata": {},
   "source": [
    "# Secondary Mushroom Dataset Analysis"
   ]
  },
  {
   "cell_type": "code",
   "execution_count": 1,
   "metadata": {},
   "outputs": [],
   "source": [
    "# import of all the necessary libraries\n",
    "import urllib\n",
    "import zipfile\n",
    "import os"
   ]
  },
  {
   "cell_type": "code",
   "execution_count": 2,
   "metadata": {},
   "outputs": [],
   "source": [
    "# Defining the function to download and extract the file, returns the path to the extracted file\n",
    "\n",
    "def download_and_extract_file(url, destination) -> str:\n",
    "    \"\"\"\n",
    "    Download and extract url to destination\n",
    "\n",
    "    :param url: url to download\n",
    "    :param destination: destination path\n",
    "\n",
    "    :return: path to extracted file\n",
    "    \"\"\"\n",
    "    urllib.request.urlretrieve(url, destination)\n",
    "    with zipfile.ZipFile(destination, \"r\") as zip_ref:\n",
    "        zip_ref.extractall(\"./\")\n",
    "    os.remove(destination)\n",
    "    name = \"MushroomDataset.zip\"\n",
    "    with zipfile.ZipFile(name, \"r\") as zip_ref:\n",
    "        zip_ref.extractall(\"./\")\n",
    "    os.remove(name)\n",
    "    res = os.listdir(\"./\")\n",
    "    for i in res:\n",
    "        if i == \"MushroomDataset\":\n",
    "            return \"./MushroomDataset/\"\n",
    "    return \"./\""
   ]
  },
  {
   "cell_type": "code",
   "execution_count": 3,
   "metadata": {},
   "outputs": [
    {
     "name": "stdout",
     "output_type": "stream",
     "text": [
      "Dataset downloaded and extracted to: ./MushroomDataset/\n",
      "\n"
     ]
    }
   ],
   "source": [
    "source = \"https://archive.ics.uci.edu/static/public/848/secondary+mushroom+dataset.zip\"\n",
    "destination_zip = \"./secondary+mushroom+dataset.zip\"\n",
    "\n",
    "datasets_path = download_and_extract_file(source, destination_zip)\n",
    "print(\"Dataset downloaded and extracted to: \" + datasets_path + \"\\n\")"
   ]
  },
  {
   "cell_type": "markdown",
   "metadata": {},
   "source": [
    "### Transforming data from csv to DataFrame"
   ]
  },
  {
   "cell_type": "code",
   "execution_count": 4,
   "metadata": {},
   "outputs": [
    {
     "name": "stdout",
     "output_type": "stream",
     "text": [
      "+-----+------------+---------+-----------+---------+--------------------+---------------+------------+----------+-----------+----------+---------+------------+----------+---------+----------+--------+---------+-----------------+-------+------+\n",
      "|class|cap-diameter|cap-shape|cap-surface|cap-color|does-bruise-or-bleed|gill-attachment|gill-spacing|gill-color|stem-height|stem-width|stem-root|stem-surface|stem-color|veil-type|veil-color|has-ring|ring-type|spore-print-color|habitat|season|\n",
      "+-----+------------+---------+-----------+---------+--------------------+---------------+------------+----------+-----------+----------+---------+------------+----------+---------+----------+--------+---------+-----------------+-------+------+\n",
      "|    p|       15.26|        x|          g|        o|                   f|              e|        NULL|         w|      16.95|     17.09|        s|           y|         w|        u|         w|       t|        g|             NULL|      d|     w|\n",
      "|    p|        16.6|        x|          g|        o|                   f|              e|        NULL|         w|      17.99|     18.19|        s|           y|         w|        u|         w|       t|        g|             NULL|      d|     u|\n",
      "|    p|       14.07|        x|          g|        o|                   f|              e|        NULL|         w|       17.8|     17.74|        s|           y|         w|        u|         w|       t|        g|             NULL|      d|     w|\n",
      "|    p|       14.17|        f|          h|        e|                   f|              e|        NULL|         w|      15.77|     15.98|        s|           y|         w|        u|         w|       t|        p|             NULL|      d|     w|\n",
      "|    p|       14.64|        x|          h|        o|                   f|              e|        NULL|         w|      16.53|      17.2|        s|           y|         w|        u|         w|       t|        p|             NULL|      d|     w|\n",
      "+-----+------------+---------+-----------+---------+--------------------+---------------+------------+----------+-----------+----------+---------+------------+----------+---------+----------+--------+---------+-----------------+-------+------+\n",
      "only showing top 5 rows\n",
      "\n"
     ]
    }
   ],
   "source": [
    "df = spark.read.format(\"csv\").load(datasets_path + \"secondary_data.csv\", header=True, inferSchema=True, sep=\";\")\n",
    "df.show(5)"
   ]
  },
  {
   "cell_type": "markdown",
   "metadata": {},
   "source": [
    "#### Visualization of the dataset"
   ]
  },
  {
   "cell_type": "code",
   "execution_count": 5,
   "metadata": {},
   "outputs": [
    {
     "name": "stdout",
     "output_type": "stream",
     "text": [
      "Number of rows: 61069\n",
      "Number of columns: 21\n",
      "Columns: ['class', 'cap-diameter', 'cap-shape', 'cap-surface', 'cap-color', 'does-bruise-or-bleed', 'gill-attachment', 'gill-spacing', 'gill-color', 'stem-height', 'stem-width', 'stem-root', 'stem-surface', 'stem-color', 'veil-type', 'veil-color', 'has-ring', 'ring-type', 'spore-print-color', 'habitat', 'season']\n",
      "Schema: \n",
      "root\n",
      " |-- class: string (nullable = true)\n",
      " |-- cap-diameter: double (nullable = true)\n",
      " |-- cap-shape: string (nullable = true)\n",
      " |-- cap-surface: string (nullable = true)\n",
      " |-- cap-color: string (nullable = true)\n",
      " |-- does-bruise-or-bleed: string (nullable = true)\n",
      " |-- gill-attachment: string (nullable = true)\n",
      " |-- gill-spacing: string (nullable = true)\n",
      " |-- gill-color: string (nullable = true)\n",
      " |-- stem-height: double (nullable = true)\n",
      " |-- stem-width: double (nullable = true)\n",
      " |-- stem-root: string (nullable = true)\n",
      " |-- stem-surface: string (nullable = true)\n",
      " |-- stem-color: string (nullable = true)\n",
      " |-- veil-type: string (nullable = true)\n",
      " |-- veil-color: string (nullable = true)\n",
      " |-- has-ring: string (nullable = true)\n",
      " |-- ring-type: string (nullable = true)\n",
      " |-- spore-print-color: string (nullable = true)\n",
      " |-- habitat: string (nullable = true)\n",
      " |-- season: string (nullable = true)\n",
      "\n"
     ]
    }
   ],
   "source": [
    "# We produce some statistics about the dataset\n",
    "print(\"Number of rows: \" + str(df.count()))\n",
    "print(\"Number of columns: \" + str(len(df.columns)))\n",
    "print(\"Columns: \" + str(df.columns))\n",
    "print(\"Schema: \")\n",
    "df.printSchema()"
   ]
  },
  {
   "cell_type": "code",
   "execution_count": 6,
   "metadata": {},
   "outputs": [
    {
     "name": "stdout",
     "output_type": "stream",
     "text": [
      "Number of null values in each column: \n"
     ]
    },
    {
     "name": "stderr",
     "output_type": "stream",
     "text": [
      "[Stage 6:>                                                          (0 + 1) / 1]\r"
     ]
    },
    {
     "name": "stdout",
     "output_type": "stream",
     "text": [
      "+-----+------------+---------+-----------+---------+--------------------+---------------+------------+----------+-----------+----------+---------+------------+----------+---------+----------+--------+---------+-----------------+-------+------+\n",
      "|class|cap-diameter|cap-shape|cap-surface|cap-color|does-bruise-or-bleed|gill-attachment|gill-spacing|gill-color|stem-height|stem-width|stem-root|stem-surface|stem-color|veil-type|veil-color|has-ring|ring-type|spore-print-color|habitat|season|\n",
      "+-----+------------+---------+-----------+---------+--------------------+---------------+------------+----------+-----------+----------+---------+------------+----------+---------+----------+--------+---------+-----------------+-------+------+\n",
      "|    0|           0|        0|      14120|        0|                   0|           9884|       25063|         0|          0|         0|    51538|       38124|         0|    57892|     53656|       0|     2471|            54715|      0|     0|\n",
      "+-----+------------+---------+-----------+---------+--------------------+---------------+------------+----------+-----------+----------+---------+------------+----------+---------+----------+--------+---------+-----------------+-------+------+\n",
      "\n"
     ]
    },
    {
     "name": "stderr",
     "output_type": "stream",
     "text": [
      "                                                                                \r"
     ]
    }
   ],
   "source": [
    "# We check if there are any null values in the dataset\n",
    "from pyspark.sql.functions import count, when, isnan, col\n",
    "print(\"Number of null values in each column: \")\n",
    "df.select([count(when(isnan(c) | col(c).isNull(), c)).alias(c) for c in df.columns]).show()\n"
   ]
  },
  {
   "cell_type": "code",
   "execution_count": 7,
   "metadata": {},
   "outputs": [
    {
     "name": "stdout",
     "output_type": "stream",
     "text": [
      "Number of rows before removing duplicates: 61069\n",
      "Number of rows after removing duplicates: 60923\n"
     ]
    }
   ],
   "source": [
    "# We remove duplicates from the dataset\n",
    "print(\"Number of rows before removing duplicates: \" + str(df.count()))\n",
    "df = df.dropDuplicates()\n",
    "print(\"Number of rows after removing duplicates: \" + str(df.count()))"
   ]
  },
  {
   "cell_type": "code",
   "execution_count": 8,
   "metadata": {},
   "outputs": [
    {
     "name": "stdout",
     "output_type": "stream",
     "text": [
      "Statistics of the dataset: \n"
     ]
    },
    {
     "name": "stderr",
     "output_type": "stream",
     "text": [
      "23/12/29 14:19:49 WARN SparkStringUtils: Truncated the string representation of a plan since it was too large. This behavior can be adjusted by setting 'spark.sql.debug.maxToStringFields'.\n",
      "[Stage 20:======================================>                   (2 + 1) / 3]\r"
     ]
    },
    {
     "name": "stdout",
     "output_type": "stream",
     "text": [
      "+-------+-----+------------------+---------+-----------+---------+--------------------+---------------+------------+----------+-----------------+------------------+---------+------------+----------+---------+----------+--------+---------+-----------------+-------+------+\n",
      "|summary|class|      cap-diameter|cap-shape|cap-surface|cap-color|does-bruise-or-bleed|gill-attachment|gill-spacing|gill-color|      stem-height|        stem-width|stem-root|stem-surface|stem-color|veil-type|veil-color|has-ring|ring-type|spore-print-color|habitat|season|\n",
      "+-------+-----+------------------+---------+-----------+---------+--------------------+---------------+------------+----------+-----------------+------------------+---------+------------+----------+---------+----------+--------+---------+-----------------+-------+------+\n",
      "|  count|60923|             60923|    60923|      46803|    60923|               60923|          51068|       35861|     60923|            60923|             60923|     9387|       22801|     60923|     3177|      7413|   60923|    58452|             6326|  60923| 60923|\n",
      "|   mean| NULL| 6.741957224693446|     NULL|       NULL|     NULL|                NULL|           NULL|        NULL|      NULL|6.597201713638521| 12.17848382384324|     NULL|        NULL|      NULL|     NULL|      NULL|    NULL|     NULL|             NULL|   NULL|  NULL|\n",
      "| stddev| NULL|5.2684351780436085|     NULL|       NULL|     NULL|                NULL|           NULL|        NULL|      NULL|3.358756979107318|10.030360750683814|     NULL|        NULL|      NULL|     NULL|      NULL|    NULL|     NULL|             NULL|   NULL|  NULL|\n",
      "|    min|    e|              0.38|        b|          d|        b|                   f|              a|           c|         b|              0.0|               0.0|        b|           f|         b|        u|         e|       f|        e|                g|      d|     a|\n",
      "|    max|    p|             62.34|        x|          y|        y|                   t|              x|           f|         y|            33.92|            103.91|        s|           y|         y|        u|         y|       t|        z|                w|      w|     w|\n",
      "+-------+-----+------------------+---------+-----------+---------+--------------------+---------------+------------+----------+-----------------+------------------+---------+------------+----------+---------+----------+--------+---------+-----------------+-------+------+\n",
      "\n"
     ]
    },
    {
     "name": "stderr",
     "output_type": "stream",
     "text": [
      "                                                                                \r"
     ]
    }
   ],
   "source": [
    "# We compute the statistics of the dataset\n",
    "print(\"Statistics of the dataset: \")\n",
    "df.describe().show()"
   ]
  },
  {
   "cell_type": "code",
   "execution_count": 9,
   "metadata": {},
   "outputs": [
    {
     "name": "stdout",
     "output_type": "stream",
     "text": [
      "Number of rows before removing columns with a high number of null values: 60923\n"
     ]
    },
    {
     "name": "stderr",
     "output_type": "stream",
     "text": [
      "                                                                                \r"
     ]
    }
   ],
   "source": [
    "# We delete the columns with a high number of null values, greater than 50% of the total number of rows\n",
    "print(\"Number of rows before removing columns with a high number of null values: \" + str(df.count()))\n",
    "\n",
    "# We compute the number of null values in each column\n",
    "null_values = df.select([count(when(isnan(c) | col(c).isNull(), c)).alias(c) for c in df.columns]).collect()[0]\n",
    "null_values_dict = {}\n",
    "for i in range(len(null_values)):\n",
    "    if null_values[i] == 0:\n",
    "        continue\n",
    "    null_values_dict[null_values[i]] = df.columns[i]\n"
   ]
  },
  {
   "cell_type": "code",
   "execution_count": 10,
   "metadata": {},
   "outputs": [
    {
     "name": "stdout",
     "output_type": "stream",
     "text": [
      "Number of rows after removing columns with a high number of null values: 60923\n"
     ]
    },
    {
     "data": {
      "text/plain": [
       "['class',\n",
       " 'cap-diameter',\n",
       " 'cap-shape',\n",
       " 'cap-surface',\n",
       " 'cap-color',\n",
       " 'does-bruise-or-bleed',\n",
       " 'gill-attachment',\n",
       " 'gill-spacing',\n",
       " 'gill-color',\n",
       " 'stem-height',\n",
       " 'stem-width',\n",
       " 'stem-color',\n",
       " 'has-ring',\n",
       " 'ring-type',\n",
       " 'habitat',\n",
       " 'season']"
      ]
     },
     "execution_count": 10,
     "metadata": {},
     "output_type": "execute_result"
    }
   ],
   "source": [
    "# From the data above we decide to remove the columns with a high number of null values, greater than 50% of the total number of rows\n",
    "null_values_to_remove = []\n",
    "for i in null_values_dict:\n",
    "    if i > df.count() / 2:\n",
    "        null_values_to_remove.append(null_values_dict[i])\n",
    "\n",
    "df = df.drop(*null_values_to_remove)\n",
    "print(\"Number of rows after removing columns with a high number of null values: \" + str(df.count()))\n",
    "df.columns"
   ]
  },
  {
   "cell_type": "code",
   "execution_count": 11,
   "metadata": {},
   "outputs": [
    {
     "name": "stdout",
     "output_type": "stream",
     "text": [
      "Number of rows before replacing null values: 60923\n",
      "Most frequent value of column cap-surface: t\n",
      "Most frequent value of column gill-attachment: a\n",
      "Most frequent value of column gill-spacing: c\n",
      "Most frequent value of column ring-type: f\n"
     ]
    }
   ],
   "source": [
    "# For all the other columns with a low number of null values, we replace the null values with the most frequent value of the column\n",
    "print(\"Number of rows before replacing null values: \" + str(df.count()))\n",
    "for i in df.columns:\n",
    "    if df.filter(df[i].isNull()).count() > 0:\n",
    "        most_frequent_value = df.groupBy(i).count().orderBy(\"count\", ascending=False).collect()\n",
    "        if most_frequent_value[0][0] == None:\n",
    "            most_frequent_value = most_frequent_value[1][0]\n",
    "        else:\n",
    "            most_frequent_value = most_frequent_value[0][0]\n",
    "        print(\"Most frequent value of column \" + i + \": \" + str(most_frequent_value))\n",
    "        df = df.fillna(most_frequent_value, subset=[i])\n"
   ]
  },
  {
   "cell_type": "code",
   "execution_count": 12,
   "metadata": {},
   "outputs": [
    {
     "data": {
      "text/plain": [
       "{}"
      ]
     },
     "execution_count": 12,
     "metadata": {},
     "output_type": "execute_result"
    }
   ],
   "source": [
    "# We compute the number of null values in each column\n",
    "null_values = df.select([count(when(isnan(c) | col(c).isNull(), c)).alias(c) for c in df.columns]).collect()[0]\n",
    "null_values_dict = {}\n",
    "for i in range(len(null_values)):\n",
    "    if null_values[i] == 0:\n",
    "        continue\n",
    "    null_values_dict[null_values[i]] = df.columns[i]\n",
    "null_values_dict"
   ]
  },
  {
   "cell_type": "markdown",
   "metadata": {},
   "source": [
    "## Transform"
   ]
  },
  {
   "cell_type": "code",
   "execution_count": 13,
   "metadata": {},
   "outputs": [
    {
     "name": "stdout",
     "output_type": "stream",
     "text": [
      "+-----+------------+---------+-----------+---------+--------------------+---------------+------------+----------+-----------+----------+----------+--------+---------+-------+------+--------------------+-----+\n",
      "|class|cap-diameter|cap-shape|cap-surface|cap-color|does-bruise-or-bleed|gill-attachment|gill-spacing|gill-color|stem-height|stem-width|stem-color|has-ring|ring-type|habitat|season|            features|label|\n",
      "+-----+------------+---------+-----------+---------+--------------------+---------------+------------+----------+-----------+----------+----------+--------+---------+-------+------+--------------------+-----+\n",
      "|    p|       13.82|        f|          h|        o|                   f|              e|           c|         w|      16.86|     17.14|         w|       t|        p|      d|     u|(80,[0,2,10,22,28...|  0.0|\n",
      "|    p|       12.16|        x|          h|        e|                   f|              e|           c|         w|      17.46|     17.51|         w|       t|        g|      d|     u|(80,[0,1,10,21,28...|  0.0|\n",
      "|    p|       11.69|        f|          g|        e|                   f|              e|           c|         w|      17.18|     17.11|         w|       t|        p|      d|     a|(80,[0,2,11,21,28...|  0.0|\n",
      "|    p|       16.78|        f|          h|        o|                   f|              e|           c|         w|      17.81|     17.92|         w|       t|        g|      d|     u|(80,[0,2,10,22,28...|  0.0|\n",
      "|    p|       13.02|        f|          t|        n|                   f|              e|           c|         w|      11.12|     13.55|         w|       t|        g|      d|     u|(80,[0,2,7,17,28,...|  0.0|\n",
      "+-----+------------+---------+-----------+---------+--------------------+---------------+------------+----------+-----------+----------+----------+--------+---------+-------+------+--------------------+-----+\n",
      "only showing top 5 rows\n",
      "\n"
     ]
    }
   ],
   "source": [
    "# USe the Rformula to transform the data\n",
    "from pyspark.ml.feature import RFormula\n",
    "formula = RFormula(formula=\"class ~ .\")\n",
    "output = formula.fit(df).transform(df)\n",
    "output.show(5)\n",
    "df_transformed = output"
   ]
  },
  {
   "cell_type": "code",
   "execution_count": 14,
   "metadata": {},
   "outputs": [
    {
     "name": "stderr",
     "output_type": "stream",
     "text": [
      "                                                                                \r"
     ]
    },
    {
     "name": "stdout",
     "output_type": "stream",
     "text": [
      "Number of rows in the training set: 48842\n",
      "Number of rows in the test set: 12081\n"
     ]
    }
   ],
   "source": [
    "# We split the dataset into training and test set\n",
    "train, test = df_transformed.randomSplit([0.8, 0.2], seed=42)\n",
    "print(\"Number of rows in the training set: \" + str(train.count()))\n",
    "print(\"Number of rows in the test set: \" + str(test.count()))\n"
   ]
  },
  {
   "cell_type": "markdown",
   "metadata": {},
   "source": [
    "Gaussian Naive Bayes\n"
   ]
  },
  {
   "cell_type": "code",
   "execution_count": 15,
   "metadata": {},
   "outputs": [],
   "source": [
    "# We define a Gaussian Naive Bayes classifier\n",
    "from pyspark.ml.classification import NaiveBayes\n",
    "nb = NaiveBayes(modelType=\"gaussian\", labelCol=\"label\", featuresCol=\"features\")\n",
    "\n",
    "# We train the model\n",
    "model = nb.fit(train)\n",
    "\n",
    "# We make predictions on the test set\n",
    "predictions_nb = model.transform(test)\n"
   ]
  },
  {
   "cell_type": "markdown",
   "metadata": {},
   "source": [
    "Logistic Regression"
   ]
  },
  {
   "cell_type": "code",
   "execution_count": 16,
   "metadata": {},
   "outputs": [
    {
     "name": "stderr",
     "output_type": "stream",
     "text": [
      "23/12/29 14:20:14 WARN InstanceBuilder: Failed to load implementation from:dev.ludovic.netlib.blas.JNIBLAS\n"
     ]
    }
   ],
   "source": [
    "# We define a Logistic Regression classifier\n",
    "from pyspark.ml.classification import LogisticRegression\n",
    "lr = LogisticRegression(labelCol=\"label\", featuresCol=\"features\", maxIter=10)\n",
    "\n",
    "# We train the model\n",
    "model = lr.fit(train)\n",
    "\n",
    "# We make predictions on the test set\n",
    "predictions_lr = model.transform(test)"
   ]
  },
  {
   "cell_type": "markdown",
   "metadata": {},
   "source": [
    "Linear Discriminant Analysis / PCA"
   ]
  },
  {
   "cell_type": "code",
   "execution_count": 17,
   "metadata": {},
   "outputs": [
    {
     "name": "stderr",
     "output_type": "stream",
     "text": [
      "23/12/29 14:20:17 WARN InstanceBuilder: Failed to load implementation from:dev.ludovic.netlib.lapack.JNILAPACK\n"
     ]
    }
   ],
   "source": [
    "# We perform PCA on the dataset\n",
    "from pyspark.ml.feature import PCA\n",
    "pca = PCA(k=2, inputCol=\"features\", outputCol=\"pcaFeatures\")\n",
    "model = pca.fit(df_transformed)\n",
    "result = model.transform(df_transformed)\n",
    "\n",
    "# We define a classifier using the PCA features\n",
    "lr = LogisticRegression(labelCol=\"label\", featuresCol=\"pcaFeatures\", maxIter=10)\n",
    "\n",
    "# We split the dataset into training and test set\n",
    "train_pca, test_pca = result.randomSplit([0.8, 0.2], seed=42)\n",
    "\n",
    "# We train the model\n",
    "model = lr.fit(train_pca)\n",
    "\n",
    "# We make predictions on the test set\n",
    "predictions_lrpca = model.transform(test_pca)\n"
   ]
  },
  {
   "cell_type": "markdown",
   "metadata": {},
   "source": [
    "Random Forest Classifier"
   ]
  },
  {
   "cell_type": "code",
   "execution_count": 19,
   "metadata": {},
   "outputs": [
    {
     "name": "stderr",
     "output_type": "stream",
     "text": [
      "23/12/29 14:20:40 WARN DAGScheduler: Broadcasting large task binary with size 4.0 MiB\n",
      "[Stage 404:>                                                        (0 + 3) / 3]\r"
     ]
    },
    {
     "name": "stderr",
     "output_type": "stream",
     "text": [
      "                                                                                \r"
     ]
    }
   ],
   "source": [
    "# We define a random forest classifier\n",
    "from pyspark.ml.classification import RandomForestClassifier\n",
    "rf = RandomForestClassifier(labelCol=\"label\", featuresCol=\"features\", numTrees=100)\n",
    "# We train the model\n",
    "model = rf.fit(train)\n",
    "# We make predictions on the test set\n",
    "predictions_rf = model.transform(test)"
   ]
  },
  {
   "cell_type": "markdown",
   "metadata": {},
   "source": [
    "Definition of the evaluation function"
   ]
  },
  {
   "cell_type": "code",
   "execution_count": 20,
   "metadata": {},
   "outputs": [],
   "source": [
    "from pyspark.ml.evaluation import BinaryClassificationEvaluator\n",
    "from pyspark.mllib.evaluation import BinaryClassificationMetrics\n",
    "# We define a function to compute the accuracy, the f1 and the f2 score of a model. We perform a binary classificatin, so we consider the class 1 as the positive class\n",
    "def compute_metrics(predictions):\n",
    "    \"\"\"\n",
    "    Compute the accuracy, the f1 and the f2 score of a model\n",
    "\n",
    "    :param predictions: predictions of the model\n",
    "\n",
    "    :return: accuracy, f1, f2\n",
    "    \"\"\"\n",
    "    tp = predictions.filter(predictions.label == 1).filter(predictions.prediction == 1).count()\n",
    "    tn = predictions.filter(predictions.label == 0).filter(predictions.prediction == 0).count()\n",
    "    fp = predictions.filter(predictions.label == 0).filter(predictions.prediction == 1).count()\n",
    "    fn = predictions.filter(predictions.label == 1).filter(predictions.prediction == 0).count()\n",
    "    accuracy = (tp + tn) / (tp + tn + fp + fn)\n",
    "    precision = tp / (tp + fp)\n",
    "    recall = tp / (tp + fn)\n",
    "    f1 = 2 * precision * recall / (precision + recall)\n",
    "    f2 = 5 * precision * recall / (4 * precision + recall)\n",
    "    return accuracy, f1, f2\n",
    "# Define a function to compute the ROC curve of a model\n",
    "def compute_roc(predictions):\n",
    "    \"\"\"\n",
    "    Compute the ROC curve of a model\n",
    "\n",
    "    :param predictions: predictions of the model\n",
    "\n",
    "    :return: list of tuples (false positive rate, true positive rate)\n",
    "    \"\"\"\n",
    "    evaluator = BinaryClassificationEvaluator()\n",
    "    roc = evaluator.evaluate(predictions, {evaluator.metricName: \"areaUnderROC\"})\n",
    "    return roc\n",
    "\n",
    "class CurveMetrics(BinaryClassificationMetrics):\n",
    "    def __init__(self, *args):\n",
    "        super(CurveMetrics, self).__init__(*args)\n",
    "\n",
    "    def _to_list(self, rdd):\n",
    "        points = []\n",
    "        # Note this collect could be inefficient for large datasets \n",
    "        # considering there may be one probability per datapoint (at most)\n",
    "        # The Scala version takes a numBins parameter, \n",
    "        # but it doesn't seem possible to pass this from Python to Java\n",
    "        for row in rdd.collect():\n",
    "            # Results are returned as type scala.Tuple2, \n",
    "            # which doesn't appear to have a py4j mapping\n",
    "            points += [(float(row._1()), float(row._2()))]\n",
    "        return points\n",
    "\n",
    "    def get_curve(self, method):\n",
    "        rdd = getattr(self._java_model, method)().toJavaRDD()\n",
    "        return self._to_list(rdd)\n",
    "    \n",
    "def compute_roc_curve(predictions):\n",
    "    \"\"\"\n",
    "    Compute the ROC curve of a model\n",
    "\n",
    "    :param predictions: predictions of the model\n",
    "\n",
    "    :return: list of tuples (false positive rate, true positive rate)\n",
    "    \"\"\"\n",
    "    roc = CurveMetrics(predictions.select(\"probability\", \"label\").rdd.map(lambda row: (float(row['probability'][1]), float(row['label']))))\n",
    "    roc = roc.get_curve(\"roc\")\n",
    "    return roc\n",
    "    "
   ]
  },
  {
   "cell_type": "code",
   "execution_count": 23,
   "metadata": {},
   "outputs": [
    {
     "name": "stdout",
     "output_type": "stream",
     "text": [
      "| Classifier                   |   Accuracy |       F1 |       F2 |      ROC |\n",
      "|------------------------------|------------|----------|----------|----------|\n",
      "| Naive Bayes                  |   0.625114 | 0.693344 | 0.829687 | 0.691132 |\n",
      "| Logistic Regression          |   0.77535  | 0.752913 | 0.763761 | 0.849207 |\n",
      "| Logistic Regression with PCA |   0.592997 | 0.416241 | 0.357624 | 0.63085  |\n",
      "| Random Forest                |   0.837845 | 0.805172 | 0.774263 | 0.917156 |\n"
     ]
    }
   ],
   "source": [
    "predictions = [predictions_nb, predictions_lr, predictions_lrpca, predictions_rf]\n",
    "names = [\"Naive Bayes\", \"Logistic Regression\", \"Logistic Regression with PCA\", \"Random Forest\"]\n",
    "evaluations = []\n",
    "for i in range(len(predictions)):\n",
    "    accuracy, f1, f2 = compute_metrics(predictions[i])\n",
    "    roc = compute_roc(predictions[i])\n",
    "    el = {\"accuracy\": accuracy, \"f1\": f1, \"f2\": f2, \"roc\": roc}\n",
    "    evaluations.append(el)\n",
    "\n",
    "# We print the results\n",
    "import tabulate\n",
    "headers = [\"Classifier\", \"Accuracy\", \"F1\", \"F2\", \"ROC\"]\n",
    "table = []\n",
    "for i in range(len(predictions)):\n",
    "    table.append([names[i], evaluations[i][\"accuracy\"], evaluations[i][\"f1\"], evaluations[i][\"f2\"], evaluations[i][\"roc\"]])\n",
    "\n",
    "print(tabulate.tabulate(table, headers=headers, tablefmt=\"github\"))"
   ]
  },
  {
   "cell_type": "code",
   "execution_count": 24,
   "metadata": {},
   "outputs": [
    {
     "name": "stderr",
     "output_type": "stream",
     "text": [
      "/opt/spark/python/pyspark/sql/context.py:158: FutureWarning: Deprecated in 3.0.0. Use SparkSession.builder.getOrCreate() instead.\n",
      "  warnings.warn(\n",
      "/opt/spark/python/pyspark/sql/context.py:158: FutureWarning: Deprecated in 3.0.0. Use SparkSession.builder.getOrCreate() instead.\n",
      "  warnings.warn(\n"
     ]
    },
    {
     "data": {
      "text/plain": [
       "<matplotlib.legend.Legend at 0xffff72a9b040>"
      ]
     },
     "execution_count": 24,
     "metadata": {},
     "output_type": "execute_result"
    },
    {
     "data": {
      "image/png": "[encoded data removed]",
      "text/plain": [
       "<Figure size 640x480 with 1 Axes>"
      ]
     },
     "metadata": {},
     "output_type": "display_data"
    }
   ],
   "source": [
    "# We plot the ROC curve of the models\n",
    "import matplotlib.pyplot as plt\n",
    "roc_nb = compute_roc_curve(predictions_nb)\n",
    "roc_lr = compute_roc_curve(predictions_lr)\n",
    "roc_lrpca = compute_roc_curve(predictions_lrpca)\n",
    "roc_rf = compute_roc_curve(predictions_rf)\n",
    "\n",
    "plt.plot([x[0] for x in roc_nb], [x[1] for x in roc_nb], label=f\"Naive Bayes AUC: {compute_roc(predictions_nb):.2f}\")\n",
    "plt.plot([x[0] for x in roc_lr], [x[1] for x in roc_lr], label=f\"Logistic Regression AUC: {compute_roc(predictions_lr):.2f}\")\n",
    "plt.plot([x[0] for x in roc_lrpca], [x[1] for x in roc_lrpca], label=f\"Logistic Regression with PCA AUC: {compute_roc(predictions_lrpca):.2f}\")\n",
    "plt.plot([x[0] for x in roc_rf], [x[1] for x in roc_rf], label=f\"Random Forest AUC: {compute_roc(predictions_rf):.2f}\")\n",
    "plt.xlabel(\"False Positive Rate\")\n",
    "plt.ylabel(\"True Positive Rate\")\n",
    "plt.legend()"
   ]
  },
  {
   "cell_type": "markdown",
   "metadata": {},
   "source": [
    "Decision Tree"
   ]
  },
  {
   "cell_type": "code",
   "execution_count": 26,
   "metadata": {},
   "outputs": [],
   "source": [
    "# We now fit a Decision Tree model on the training set\n",
    "from pyspark.ml.classification import DecisionTreeClassifier\n",
    "\n",
    "dt = DecisionTreeClassifier(labelCol=\"label\", featuresCol=\"features\")\n",
    "model = dt.fit(train)\n",
    "predictions_dt = model.transform(test)"
   ]
  },
  {
   "cell_type": "markdown",
   "metadata": {},
   "source": [
    "Gradient-boosted tree classifier"
   ]
  },
  {
   "cell_type": "code",
   "execution_count": 27,
   "metadata": {},
   "outputs": [],
   "source": [
    "# We fit a gradient boosted tree model on the training set\n",
    "from pyspark.ml.classification import GBTClassifier\n",
    "gbt = GBTClassifier(labelCol=\"label\", featuresCol=\"features\", maxIter=50)\n",
    "model = gbt.fit(train)\n",
    "predictions_gbt = model.transform(test)"
   ]
  },
  {
   "cell_type": "markdown",
   "metadata": {},
   "source": [
    "MultiLayer Perceptron Classifier"
   ]
  },
  {
   "cell_type": "code",
   "execution_count": 40,
   "metadata": {},
   "outputs": [
    {
     "name": "stderr",
     "output_type": "stream",
     "text": [
      "23/12/29 14:51:12 ERROR LBFGS: Failure! Resetting history: breeze.optimize.FirstOrderException: Line search failed\n"
     ]
    }
   ],
   "source": [
    "# We fit a multilayer perceptron model on the training set\n",
    "from pyspark.ml.classification import MultilayerPerceptronClassifier\n",
    "layers = [80, 5, 4, 2]\n",
    "mp = MultilayerPerceptronClassifier(maxIter=100, layers=layers, blockSize=128, featuresCol=\"features\", labelCol=\"label\")\n",
    "model = mp.fit(train)\n",
    "predictions_mp = model.transform(test)"
   ]
  },
  {
   "cell_type": "markdown",
   "metadata": {},
   "source": [
    "Linear support vector Machine"
   ]
  },
  {
   "cell_type": "code",
   "execution_count": 29,
   "metadata": {},
   "outputs": [],
   "source": [
    "# We fit a linear support vector machine model on the training set\n",
    "from pyspark.ml.classification import LinearSVC\n",
    "lsvc = LinearSVC(maxIter=50, regParam=0.1)\n",
    "model = lsvc.fit(train)\n",
    "predictions_lsvc = model.transform(test)"
   ]
  },
  {
   "cell_type": "markdown",
   "metadata": {},
   "source": [
    "One vs Rest"
   ]
  },
  {
   "cell_type": "code",
   "execution_count": 30,
   "metadata": {},
   "outputs": [
    {
     "name": "stderr",
     "output_type": "stream",
     "text": [
      "                                                                                \r"
     ]
    }
   ],
   "source": [
    "# We fit a one-vs-rest support vector machine model on the training set\n",
    "from pyspark.ml.classification import OneVsRest\n",
    "from pyspark.ml.classification import LinearSVC\n",
    "lsvc = LinearSVC(maxIter=50, regParam=0.1)\n",
    "ovr = OneVsRest(classifier=lsvc)\n",
    "model = ovr.fit(train)\n",
    "predictions_ovr = model.transform(test)"
   ]
  },
  {
   "cell_type": "markdown",
   "metadata": {},
   "source": [
    "Factorization machines classification"
   ]
  },
  {
   "cell_type": "code",
   "execution_count": 36,
   "metadata": {},
   "outputs": [],
   "source": [
    "# We fit a factorization machines model on the training set\n",
    "from pyspark.ml.classification import FMClassifier\n",
    "fm = FMClassifier(labelCol=\"label\", featuresCol=\"features\")\n",
    "model = fm.fit(train)\n",
    "predictions_fm = model.transform(test)"
   ]
  },
  {
   "cell_type": "markdown",
   "metadata": {},
   "source": [
    "Evaluation of all models"
   ]
  },
  {
   "cell_type": "code",
   "execution_count": 41,
   "metadata": {},
   "outputs": [
    {
     "name": "stderr",
     "output_type": "stream",
     "text": [
      "                                                                                \r"
     ]
    },
    {
     "name": "stdout",
     "output_type": "stream",
     "text": [
      "| Classifier             |   Accuracy |       F1 |       F2 |      ROC |\n",
      "|------------------------|------------|----------|----------|----------|\n",
      "| Decision Tree          |   0.70764  | 0.595047 | 0.523017 | 0.669057 |\n",
      "| Gradient Boosted Tree  |   0.9827   | 0.980476 | 0.979433 | 0.997739 |\n",
      "| Multilayer Perceptron  |   0.747869 | 0.758024 | 0.831938 | 0.81482  |\n",
      "| Linear SVM             |   0.781641 | 0.762428 | 0.778411 | 0.838115 |\n",
      "| One-vs-Rest SVM        |   0.781641 | 0.762428 | 0.778411 | 0.838111 |\n",
      "| Factorization Machines |   0.961841 | 0.956872 | 0.954995 | 0.993068 |\n"
     ]
    }
   ],
   "source": [
    "predictions = [predictions_dt, predictions_gbt, predictions_mp, predictions_lsvc, predictions_ovr, predictions_fm]\n",
    "names = [\"Decision Tree\", \"Gradient Boosted Tree\", \"Multilayer Perceptron\", \"Linear SVM\", \"One-vs-Rest SVM\", \"Factorization Machines\"]\n",
    "evaluations = []\n",
    "for i in range(len(predictions)):\n",
    "    accuracy, f1, f2 = compute_metrics(predictions[i])\n",
    "    roc = compute_roc(predictions[i])\n",
    "    el = {\"accuracy\": accuracy, \"f1\": f1, \"f2\": f2, \"roc\": roc}\n",
    "    evaluations.append(el)\n",
    "\n",
    "# We print the results\n",
    "import tabulate\n",
    "headers = [\"Classifier\", \"Accuracy\", \"F1\", \"F2\", \"ROC\"]\n",
    "table = []\n",
    "for i in range(len(predictions)):\n",
    "    table.append([names[i], evaluations[i][\"accuracy\"], evaluations[i][\"f1\"], evaluations[i][\"f2\"], evaluations[i][\"roc\"]])\n",
    "\n",
    "print(tabulate.tabulate(table, headers=headers, tablefmt=\"github\"))"
   ]
  }
 ],
 "metadata": {
  "kernelspec": {
   "display_name": "Python 3 (ipykernel)",
   "language": "python",
   "name": "python3"
  },
  "language_info": {
   "codemirror_mode": {
    "name": "ipython",
    "version": 3
   },
   "file_extension": ".py",
   "mimetype": "text/x-python",
   "name": "python",
   "nbconvert_exporter": "python",
   "pygments_lexer": "ipython3",
   "version": "3.8.10"
  }
 },
 "nbformat": 4,
 "nbformat_minor": 2
}
